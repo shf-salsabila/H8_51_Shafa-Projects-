{
 "cells": [
  {
   "cell_type": "markdown",
   "metadata": {},
   "source": [
    "<img src = \"https://global-uploads.webflow.com/5f0d53c042a9ed6288de7f8d/5f6337ae2cfaa10946ceeb06_Hacktiv8%20logo%20horizontal%2001%20black-p-500.png\" width = 400>\n",
    "<h1 align=center><font size = 5>Hacktiv8 PTP Introduction to Data Science Final Project // pH Recognition based on RGB Color</font></h1>"
   ]
  },
  {
   "cell_type": "markdown",
   "metadata": {},
   "source": [
    "Title: pH Recognition based on RGB Color\\\n",
    "Last Updated: April 10, 2021\\\n",
    "Author: Shafa Salsabila Kurniawan"
   ]
  },
  {
   "cell_type": "markdown",
   "metadata": {},
   "source": [
    "## 1. Introduction"
   ]
  },
  {
   "cell_type": "markdown",
   "metadata": {},
   "source": [
    "### 1.1 State of The Art"
   ]
  },
  {
   "cell_type": "markdown",
   "metadata": {},
   "source": [
    "pH scale is a common measurement unit unit used to classify acid and base. In daily life, each compounds we met can be chemically labelled either as acid, bases, or salt. Acids and bases are classified as follows since they had what it calls \"acidity level\". That being said, it can be concluded that all compounds has pH value. As cool as it sounds, it's crucial since pH may control biological functions and many more things beyond.\n",
    "\n",
    "Common methods to measure pH level are:\n",
    "1. Using litmus paper\n",
    "2. Using natural indicator\n",
    "3. Using universal indicator\n",
    "4. Using pH meter\n",
    "\n",
    "Each methods has its own advantages and disadvantages, but generally most of those methods are based on the change of color. For example, measurement using litmus paper couldn't determine pH specifically in numbers (the outcome are automotically labelled as acid, base, or salt) yet it's the easiest way to do and doesn't cost much. Measurement using pH meter is the most accurate and specific one to determine pH level, but on the other hand it costs more (to be precise, it'd the most if compared to the other 3 methds). Meanwhile, measurement using universal indicator is more specific compared to litmus paper (though it's not more specific than pH meter) yet more affordable than pH meter. Commonly, pH measurement in school/university's laboratories use either universal indicator or pH meter (to be exact, pH meter is often used for research, while universal indicator is widely used for commn purpose including student's learning). \n",
    "\n",
    "Though pH measurement is a common method used by those who study or work in the field of chemistry or related field, it shouldn't be exclusive, since there's a general requirement that should be fulfilled to study/work in chemistry field that one should be free from any type of color blindness. However, as technology evolves, especially in the scope of machine learning and artificial intelligence, there's many things that could be done by machine to ease human duties. E.g detecting objects, texts, and colors. With the advancement of machine learning tehnologies that could detect colors more accurately, measuring pH level digitally could be enabled."
   ]
  },
  {
   "cell_type": "markdown",
   "metadata": {},
   "source": [
    "### 1.2 pH Recognition Dataset Introduction"
   ]
  },
  {
   "cell_type": "markdown",
   "metadata": {},
   "source": [
    "The objective of this projects is to predict the pH scale (0-14) by recognizing the RGB decimal code given. The dataset used for this project is *pH Recognition* dataset uploaded by *Robert* (username: robjan) in **kaggle.com** *(can be seen online in https://www.kaggle.com/robjan/ph-recognition)*. For an overview, this dataset is made up of 1 CSV file and contains 653 rows & 4 columns, recognizing pH scale for various combinations of red, green, and blue that may appear in the pH indicator. As it seems, the data only covers pH level (ranging from 0 to 14) from random combinations of RGB colors (stated in decimal code, ranging from 0 to 255)\n",
    "\n",
    "This dataset contains:\n",
    "\n",
    "* `blue`: this represents the composition of blue in the given color written in RGB decimal code (0-255)\n",
    "* `green`: this represents the composition of blue in the given color written in RGB decimal code (0-255)\n",
    "* `red`: this represents the composition of blue in the given color written in RGB decimal code (0-255)\n",
    "* `label`: this represents the corresponding pH scale based on the RGB code obtained"
   ]
  },
  {
   "cell_type": "markdown",
   "metadata": {},
   "source": [
    "## 2. Importing Libraries"
   ]
  },
  {
   "cell_type": "code",
   "execution_count": 1,
   "metadata": {},
   "outputs": [],
   "source": [
    "import pandas as pd\n",
    "import numpy as np\n",
    "import matplotlib.pyplot as plt\n",
    "import seaborn as sns\n",
    "import pandas_profiling\n",
    "import pickle\n",
    "\n",
    "%matplotlib inline"
   ]
  },
  {
   "cell_type": "markdown",
   "metadata": {},
   "source": [
    "## 3. Loading Dataset & Exploratory Data Analysis"
   ]
  },
  {
   "cell_type": "markdown",
   "metadata": {},
   "source": [
    "### 3.1 Loading Dataset"
   ]
  },
  {
   "cell_type": "code",
   "execution_count": 2,
   "metadata": {},
   "outputs": [
    {
     "name": "stdout",
     "output_type": "stream",
     "text": [
      "pH Recognition dataset read into a pandas dataframe!\n"
     ]
    }
   ],
   "source": [
    "# Loading Dataset\n",
    "ph = pd.read_csv(\"ph-data.csv\")\n",
    "\n",
    "# if the dataset is properly loaded, print this\n",
    "print ('pH Recognition dataset read into a pandas dataframe!')"
   ]
  },
  {
   "cell_type": "markdown",
   "metadata": {},
   "source": [
    "### 3.2 Examining Dataset"
   ]
  },
  {
   "cell_type": "markdown",
   "metadata": {},
   "source": [
    "The first step to do when analyzing a dataset is viewing the top 5 and bottom 5 rows of the dataset using `head()` and `tail()` function."
   ]
  },
  {
   "cell_type": "code",
   "execution_count": 3,
   "metadata": {},
   "outputs": [
    {
     "data": {
      "text/html": [
       "<div>\n",
       "<style scoped>\n",
       "    .dataframe tbody tr th:only-of-type {\n",
       "        vertical-align: middle;\n",
       "    }\n",
       "\n",
       "    .dataframe tbody tr th {\n",
       "        vertical-align: top;\n",
       "    }\n",
       "\n",
       "    .dataframe thead th {\n",
       "        text-align: right;\n",
       "    }\n",
       "</style>\n",
       "<table border=\"1\" class=\"dataframe\">\n",
       "  <thead>\n",
       "    <tr style=\"text-align: right;\">\n",
       "      <th></th>\n",
       "      <th>blue</th>\n",
       "      <th>green</th>\n",
       "      <th>red</th>\n",
       "      <th>label</th>\n",
       "    </tr>\n",
       "  </thead>\n",
       "  <tbody>\n",
       "    <tr>\n",
       "      <th>0</th>\n",
       "      <td>36</td>\n",
       "      <td>27</td>\n",
       "      <td>231</td>\n",
       "      <td>0</td>\n",
       "    </tr>\n",
       "    <tr>\n",
       "      <th>1</th>\n",
       "      <td>36</td>\n",
       "      <td>84</td>\n",
       "      <td>250</td>\n",
       "      <td>1</td>\n",
       "    </tr>\n",
       "    <tr>\n",
       "      <th>2</th>\n",
       "      <td>37</td>\n",
       "      <td>164</td>\n",
       "      <td>255</td>\n",
       "      <td>2</td>\n",
       "    </tr>\n",
       "    <tr>\n",
       "      <th>3</th>\n",
       "      <td>22</td>\n",
       "      <td>205</td>\n",
       "      <td>255</td>\n",
       "      <td>3</td>\n",
       "    </tr>\n",
       "    <tr>\n",
       "      <th>4</th>\n",
       "      <td>38</td>\n",
       "      <td>223</td>\n",
       "      <td>221</td>\n",
       "      <td>4</td>\n",
       "    </tr>\n",
       "  </tbody>\n",
       "</table>\n",
       "</div>"
      ],
      "text/plain": [
       "   blue  green  red  label\n",
       "0    36     27  231      0\n",
       "1    36     84  250      1\n",
       "2    37    164  255      2\n",
       "3    22    205  255      3\n",
       "4    38    223  221      4"
      ]
     },
     "execution_count": 3,
     "metadata": {},
     "output_type": "execute_result"
    }
   ],
   "source": [
    "# Viewing the top 5 rows of the dataset using the head() function.\n",
    "ph.head()"
   ]
  },
  {
   "cell_type": "code",
   "execution_count": 4,
   "metadata": {},
   "outputs": [
    {
     "data": {
      "text/html": [
       "<div>\n",
       "<style scoped>\n",
       "    .dataframe tbody tr th:only-of-type {\n",
       "        vertical-align: middle;\n",
       "    }\n",
       "\n",
       "    .dataframe tbody tr th {\n",
       "        vertical-align: top;\n",
       "    }\n",
       "\n",
       "    .dataframe thead th {\n",
       "        text-align: right;\n",
       "    }\n",
       "</style>\n",
       "<table border=\"1\" class=\"dataframe\">\n",
       "  <thead>\n",
       "    <tr style=\"text-align: right;\">\n",
       "      <th></th>\n",
       "      <th>blue</th>\n",
       "      <th>green</th>\n",
       "      <th>red</th>\n",
       "      <th>label</th>\n",
       "    </tr>\n",
       "  </thead>\n",
       "  <tbody>\n",
       "    <tr>\n",
       "      <th>648</th>\n",
       "      <td>201</td>\n",
       "      <td>123</td>\n",
       "      <td>0</td>\n",
       "      <td>10</td>\n",
       "    </tr>\n",
       "    <tr>\n",
       "      <th>649</th>\n",
       "      <td>203</td>\n",
       "      <td>51</td>\n",
       "      <td>46</td>\n",
       "      <td>11</td>\n",
       "    </tr>\n",
       "    <tr>\n",
       "      <th>650</th>\n",
       "      <td>169</td>\n",
       "      <td>62</td>\n",
       "      <td>48</td>\n",
       "      <td>12</td>\n",
       "    </tr>\n",
       "    <tr>\n",
       "      <th>651</th>\n",
       "      <td>173</td>\n",
       "      <td>37</td>\n",
       "      <td>79</td>\n",
       "      <td>13</td>\n",
       "    </tr>\n",
       "    <tr>\n",
       "      <th>652</th>\n",
       "      <td>131</td>\n",
       "      <td>2</td>\n",
       "      <td>77</td>\n",
       "      <td>14</td>\n",
       "    </tr>\n",
       "  </tbody>\n",
       "</table>\n",
       "</div>"
      ],
      "text/plain": [
       "     blue  green  red  label\n",
       "648   201    123    0     10\n",
       "649   203     51   46     11\n",
       "650   169     62   48     12\n",
       "651   173     37   79     13\n",
       "652   131      2   77     14"
      ]
     },
     "execution_count": 4,
     "metadata": {},
     "output_type": "execute_result"
    }
   ],
   "source": [
    "# Viewing the bottom 5 rows of the dataset using the tail() function.\n",
    "ph.tail()"
   ]
  },
  {
   "cell_type": "markdown",
   "metadata": {},
   "source": [
    "When analyzing a dataset, it's always a good idea to start by getting basic information about your dataframe. We can do this by using the `info()` method. Besides, we can use the `.shape` parameter to view the dimensions of the dataframe."
   ]
  },
  {
   "cell_type": "code",
   "execution_count": 5,
   "metadata": {},
   "outputs": [
    {
     "name": "stdout",
     "output_type": "stream",
     "text": [
      "The shape of the  data is (row, column):(653, 4)\n",
      "<class 'pandas.core.frame.DataFrame'>\n",
      "RangeIndex: 653 entries, 0 to 652\n",
      "Data columns (total 4 columns):\n",
      " #   Column  Non-Null Count  Dtype\n",
      "---  ------  --------------  -----\n",
      " 0   blue    653 non-null    int64\n",
      " 1   green   653 non-null    int64\n",
      " 2   red     653 non-null    int64\n",
      " 3   label   653 non-null    int64\n",
      "dtypes: int64(4)\n",
      "memory usage: 20.5 KB\n",
      "None\n"
     ]
    }
   ],
   "source": [
    "print (\"The shape of the  data is (row, column):\"+ str(ph.shape))\n",
    "print (ph.info())"
   ]
  },
  {
   "cell_type": "markdown",
   "metadata": {},
   "source": [
    "To get the list of column headers we can call upon the dataframe's `.columns` parameter."
   ]
  },
  {
   "cell_type": "code",
   "execution_count": 6,
   "metadata": {},
   "outputs": [
    {
     "data": {
      "text/plain": [
       "array(['blue', 'green', 'red', 'label'], dtype=object)"
      ]
     },
     "execution_count": 6,
     "metadata": {},
     "output_type": "execute_result"
    }
   ],
   "source": [
    "ph.columns.values"
   ]
  },
  {
   "cell_type": "markdown",
   "metadata": {},
   "source": [
    "Similarly, to get the list of indicies we use the `.index` parameter."
   ]
  },
  {
   "cell_type": "code",
   "execution_count": 7,
   "metadata": {},
   "outputs": [
    {
     "data": {
      "text/plain": [
       "array([  0,   1,   2,   3,   4,   5,   6,   7,   8,   9,  10,  11,  12,\n",
       "        13,  14,  15,  16,  17,  18,  19,  20,  21,  22,  23,  24,  25,\n",
       "        26,  27,  28,  29,  30,  31,  32,  33,  34,  35,  36,  37,  38,\n",
       "        39,  40,  41,  42,  43,  44,  45,  46,  47,  48,  49,  50,  51,\n",
       "        52,  53,  54,  55,  56,  57,  58,  59,  60,  61,  62,  63,  64,\n",
       "        65,  66,  67,  68,  69,  70,  71,  72,  73,  74,  75,  76,  77,\n",
       "        78,  79,  80,  81,  82,  83,  84,  85,  86,  87,  88,  89,  90,\n",
       "        91,  92,  93,  94,  95,  96,  97,  98,  99, 100, 101, 102, 103,\n",
       "       104, 105, 106, 107, 108, 109, 110, 111, 112, 113, 114, 115, 116,\n",
       "       117, 118, 119, 120, 121, 122, 123, 124, 125, 126, 127, 128, 129,\n",
       "       130, 131, 132, 133, 134, 135, 136, 137, 138, 139, 140, 141, 142,\n",
       "       143, 144, 145, 146, 147, 148, 149, 150, 151, 152, 153, 154, 155,\n",
       "       156, 157, 158, 159, 160, 161, 162, 163, 164, 165, 166, 167, 168,\n",
       "       169, 170, 171, 172, 173, 174, 175, 176, 177, 178, 179, 180, 181,\n",
       "       182, 183, 184, 185, 186, 187, 188, 189, 190, 191, 192, 193, 194,\n",
       "       195, 196, 197, 198, 199, 200, 201, 202, 203, 204, 205, 206, 207,\n",
       "       208, 209, 210, 211, 212, 213, 214, 215, 216, 217, 218, 219, 220,\n",
       "       221, 222, 223, 224, 225, 226, 227, 228, 229, 230, 231, 232, 233,\n",
       "       234, 235, 236, 237, 238, 239, 240, 241, 242, 243, 244, 245, 246,\n",
       "       247, 248, 249, 250, 251, 252, 253, 254, 255, 256, 257, 258, 259,\n",
       "       260, 261, 262, 263, 264, 265, 266, 267, 268, 269, 270, 271, 272,\n",
       "       273, 274, 275, 276, 277, 278, 279, 280, 281, 282, 283, 284, 285,\n",
       "       286, 287, 288, 289, 290, 291, 292, 293, 294, 295, 296, 297, 298,\n",
       "       299, 300, 301, 302, 303, 304, 305, 306, 307, 308, 309, 310, 311,\n",
       "       312, 313, 314, 315, 316, 317, 318, 319, 320, 321, 322, 323, 324,\n",
       "       325, 326, 327, 328, 329, 330, 331, 332, 333, 334, 335, 336, 337,\n",
       "       338, 339, 340, 341, 342, 343, 344, 345, 346, 347, 348, 349, 350,\n",
       "       351, 352, 353, 354, 355, 356, 357, 358, 359, 360, 361, 362, 363,\n",
       "       364, 365, 366, 367, 368, 369, 370, 371, 372, 373, 374, 375, 376,\n",
       "       377, 378, 379, 380, 381, 382, 383, 384, 385, 386, 387, 388, 389,\n",
       "       390, 391, 392, 393, 394, 395, 396, 397, 398, 399, 400, 401, 402,\n",
       "       403, 404, 405, 406, 407, 408, 409, 410, 411, 412, 413, 414, 415,\n",
       "       416, 417, 418, 419, 420, 421, 422, 423, 424, 425, 426, 427, 428,\n",
       "       429, 430, 431, 432, 433, 434, 435, 436, 437, 438, 439, 440, 441,\n",
       "       442, 443, 444, 445, 446, 447, 448, 449, 450, 451, 452, 453, 454,\n",
       "       455, 456, 457, 458, 459, 460, 461, 462, 463, 464, 465, 466, 467,\n",
       "       468, 469, 470, 471, 472, 473, 474, 475, 476, 477, 478, 479, 480,\n",
       "       481, 482, 483, 484, 485, 486, 487, 488, 489, 490, 491, 492, 493,\n",
       "       494, 495, 496, 497, 498, 499, 500, 501, 502, 503, 504, 505, 506,\n",
       "       507, 508, 509, 510, 511, 512, 513, 514, 515, 516, 517, 518, 519,\n",
       "       520, 521, 522, 523, 524, 525, 526, 527, 528, 529, 530, 531, 532,\n",
       "       533, 534, 535, 536, 537, 538, 539, 540, 541, 542, 543, 544, 545,\n",
       "       546, 547, 548, 549, 550, 551, 552, 553, 554, 555, 556, 557, 558,\n",
       "       559, 560, 561, 562, 563, 564, 565, 566, 567, 568, 569, 570, 571,\n",
       "       572, 573, 574, 575, 576, 577, 578, 579, 580, 581, 582, 583, 584,\n",
       "       585, 586, 587, 588, 589, 590, 591, 592, 593, 594, 595, 596, 597,\n",
       "       598, 599, 600, 601, 602, 603, 604, 605, 606, 607, 608, 609, 610,\n",
       "       611, 612, 613, 614, 615, 616, 617, 618, 619, 620, 621, 622, 623,\n",
       "       624, 625, 626, 627, 628, 629, 630, 631, 632, 633, 634, 635, 636,\n",
       "       637, 638, 639, 640, 641, 642, 643, 644, 645, 646, 647, 648, 649,\n",
       "       650, 651, 652], dtype=int64)"
      ]
     },
     "execution_count": 7,
     "metadata": {},
     "output_type": "execute_result"
    }
   ],
   "source": [
    "ph.index.values"
   ]
  },
  {
   "cell_type": "markdown",
   "metadata": {},
   "source": [
    "Next, we can look up if the data has any missing value."
   ]
  },
  {
   "cell_type": "code",
   "execution_count": 8,
   "metadata": {},
   "outputs": [
    {
     "data": {
      "text/plain": [
       "blue     0\n",
       "green    0\n",
       "red      0\n",
       "label    0\n",
       "dtype: int64"
      ]
     },
     "execution_count": 8,
     "metadata": {},
     "output_type": "execute_result"
    }
   ],
   "source": [
    "ph.isnull().sum()"
   ]
  },
  {
   "cell_type": "markdown",
   "metadata": {},
   "source": [
    "Since the data doesn't have any missing value, data cleaning isn't required."
   ]
  },
  {
   "cell_type": "code",
   "execution_count": 9,
   "metadata": {},
   "outputs": [
    {
     "data": {
      "text/html": [
       "<div>\n",
       "<style scoped>\n",
       "    .dataframe tbody tr th:only-of-type {\n",
       "        vertical-align: middle;\n",
       "    }\n",
       "\n",
       "    .dataframe tbody tr th {\n",
       "        vertical-align: top;\n",
       "    }\n",
       "\n",
       "    .dataframe thead th {\n",
       "        text-align: right;\n",
       "    }\n",
       "</style>\n",
       "<table border=\"1\" class=\"dataframe\">\n",
       "  <thead>\n",
       "    <tr style=\"text-align: right;\">\n",
       "      <th></th>\n",
       "      <th>blue</th>\n",
       "      <th>green</th>\n",
       "      <th>red</th>\n",
       "      <th>label</th>\n",
       "    </tr>\n",
       "  </thead>\n",
       "  <tbody>\n",
       "    <tr>\n",
       "      <th>0</th>\n",
       "      <td>36</td>\n",
       "      <td>27</td>\n",
       "      <td>231</td>\n",
       "      <td>0</td>\n",
       "    </tr>\n",
       "    <tr>\n",
       "      <th>1</th>\n",
       "      <td>36</td>\n",
       "      <td>84</td>\n",
       "      <td>250</td>\n",
       "      <td>1</td>\n",
       "    </tr>\n",
       "    <tr>\n",
       "      <th>2</th>\n",
       "      <td>37</td>\n",
       "      <td>164</td>\n",
       "      <td>255</td>\n",
       "      <td>2</td>\n",
       "    </tr>\n",
       "    <tr>\n",
       "      <th>3</th>\n",
       "      <td>22</td>\n",
       "      <td>205</td>\n",
       "      <td>255</td>\n",
       "      <td>3</td>\n",
       "    </tr>\n",
       "    <tr>\n",
       "      <th>4</th>\n",
       "      <td>38</td>\n",
       "      <td>223</td>\n",
       "      <td>221</td>\n",
       "      <td>4</td>\n",
       "    </tr>\n",
       "    <tr>\n",
       "      <th>...</th>\n",
       "      <td>...</td>\n",
       "      <td>...</td>\n",
       "      <td>...</td>\n",
       "      <td>...</td>\n",
       "    </tr>\n",
       "    <tr>\n",
       "      <th>648</th>\n",
       "      <td>201</td>\n",
       "      <td>123</td>\n",
       "      <td>0</td>\n",
       "      <td>10</td>\n",
       "    </tr>\n",
       "    <tr>\n",
       "      <th>649</th>\n",
       "      <td>203</td>\n",
       "      <td>51</td>\n",
       "      <td>46</td>\n",
       "      <td>11</td>\n",
       "    </tr>\n",
       "    <tr>\n",
       "      <th>650</th>\n",
       "      <td>169</td>\n",
       "      <td>62</td>\n",
       "      <td>48</td>\n",
       "      <td>12</td>\n",
       "    </tr>\n",
       "    <tr>\n",
       "      <th>651</th>\n",
       "      <td>173</td>\n",
       "      <td>37</td>\n",
       "      <td>79</td>\n",
       "      <td>13</td>\n",
       "    </tr>\n",
       "    <tr>\n",
       "      <th>652</th>\n",
       "      <td>131</td>\n",
       "      <td>2</td>\n",
       "      <td>77</td>\n",
       "      <td>14</td>\n",
       "    </tr>\n",
       "  </tbody>\n",
       "</table>\n",
       "<p>653 rows × 4 columns</p>\n",
       "</div>"
      ],
      "text/plain": [
       "     blue  green  red  label\n",
       "0      36     27  231      0\n",
       "1      36     84  250      1\n",
       "2      37    164  255      2\n",
       "3      22    205  255      3\n",
       "4      38    223  221      4\n",
       "..    ...    ...  ...    ...\n",
       "648   201    123    0     10\n",
       "649   203     51   46     11\n",
       "650   169     62   48     12\n",
       "651   173     37   79     13\n",
       "652   131      2   77     14\n",
       "\n",
       "[653 rows x 4 columns]"
      ]
     },
     "execution_count": 9,
     "metadata": {},
     "output_type": "execute_result"
    }
   ],
   "source": [
    "# Read the overall data\n",
    "ph_data = ph\n",
    "\n",
    "ph_data"
   ]
  },
  {
   "cell_type": "markdown",
   "metadata": {},
   "source": [
    "**Inference**\n",
    "- We have label data which is known as pH scale (range from 0 to 14)\n",
    "- We have blue, green, and red data which is a unique RGB decimal code that represents its color hue in respective color\n",
    "- As of this stage, no missing values is found\n",
    "- Label is decided to be the target variable"
   ]
  },
  {
   "cell_type": "code",
   "execution_count": 10,
   "metadata": {},
   "outputs": [],
   "source": [
    "# Labelling & separating target\n",
    "y = ph['label'] # putting the target into a separate variable\n",
    "x = ph.drop('label', axis = 1) # separating the target variable from the existing ones"
   ]
  },
  {
   "cell_type": "code",
   "execution_count": 11,
   "metadata": {},
   "outputs": [
    {
     "data": {
      "text/plain": [
       "0    0\n",
       "1    1\n",
       "2    2\n",
       "3    3\n",
       "4    4\n",
       "Name: label, dtype: int64"
      ]
     },
     "execution_count": 11,
     "metadata": {},
     "output_type": "execute_result"
    }
   ],
   "source": [
    "# Checking the target variable using head() function\n",
    "y.head()"
   ]
  },
  {
   "cell_type": "code",
   "execution_count": 12,
   "metadata": {},
   "outputs": [
    {
     "data": {
      "text/html": [
       "<div>\n",
       "<style scoped>\n",
       "    .dataframe tbody tr th:only-of-type {\n",
       "        vertical-align: middle;\n",
       "    }\n",
       "\n",
       "    .dataframe tbody tr th {\n",
       "        vertical-align: top;\n",
       "    }\n",
       "\n",
       "    .dataframe thead th {\n",
       "        text-align: right;\n",
       "    }\n",
       "</style>\n",
       "<table border=\"1\" class=\"dataframe\">\n",
       "  <thead>\n",
       "    <tr style=\"text-align: right;\">\n",
       "      <th></th>\n",
       "      <th>blue</th>\n",
       "      <th>green</th>\n",
       "      <th>red</th>\n",
       "    </tr>\n",
       "  </thead>\n",
       "  <tbody>\n",
       "    <tr>\n",
       "      <th>0</th>\n",
       "      <td>36</td>\n",
       "      <td>27</td>\n",
       "      <td>231</td>\n",
       "    </tr>\n",
       "    <tr>\n",
       "      <th>1</th>\n",
       "      <td>36</td>\n",
       "      <td>84</td>\n",
       "      <td>250</td>\n",
       "    </tr>\n",
       "    <tr>\n",
       "      <th>2</th>\n",
       "      <td>37</td>\n",
       "      <td>164</td>\n",
       "      <td>255</td>\n",
       "    </tr>\n",
       "    <tr>\n",
       "      <th>3</th>\n",
       "      <td>22</td>\n",
       "      <td>205</td>\n",
       "      <td>255</td>\n",
       "    </tr>\n",
       "    <tr>\n",
       "      <th>4</th>\n",
       "      <td>38</td>\n",
       "      <td>223</td>\n",
       "      <td>221</td>\n",
       "    </tr>\n",
       "  </tbody>\n",
       "</table>\n",
       "</div>"
      ],
      "text/plain": [
       "   blue  green  red\n",
       "0    36     27  231\n",
       "1    36     84  250\n",
       "2    37    164  255\n",
       "3    22    205  255\n",
       "4    38    223  221"
      ]
     },
     "execution_count": 12,
     "metadata": {},
     "output_type": "execute_result"
    }
   ],
   "source": [
    "# Check whether the target variable has been dropped or not\n",
    "x.head()"
   ]
  },
  {
   "cell_type": "code",
   "execution_count": 13,
   "metadata": {},
   "outputs": [
    {
     "data": {
      "text/plain": [
       "Index(['blue', 'green', 'red', 'label'], dtype='object')"
      ]
     },
     "execution_count": 13,
     "metadata": {},
     "output_type": "execute_result"
    }
   ],
   "source": [
    "# Viewing columns in the data\n",
    "ph.columns"
   ]
  },
  {
   "cell_type": "markdown",
   "metadata": {},
   "source": [
    "### 3.3 Exploratory Data Analysis"
   ]
  },
  {
   "cell_type": "markdown",
   "metadata": {},
   "source": [
    "Now, let's get a simple descriptive statistics with `.describe()` function for the data."
   ]
  },
  {
   "cell_type": "code",
   "execution_count": 14,
   "metadata": {},
   "outputs": [
    {
     "data": {
      "text/html": [
       "<div>\n",
       "<style scoped>\n",
       "    .dataframe tbody tr th:only-of-type {\n",
       "        vertical-align: middle;\n",
       "    }\n",
       "\n",
       "    .dataframe tbody tr th {\n",
       "        vertical-align: top;\n",
       "    }\n",
       "\n",
       "    .dataframe thead th {\n",
       "        text-align: right;\n",
       "    }\n",
       "</style>\n",
       "<table border=\"1\" class=\"dataframe\">\n",
       "  <thead>\n",
       "    <tr style=\"text-align: right;\">\n",
       "      <th></th>\n",
       "      <th>blue</th>\n",
       "      <th>green</th>\n",
       "      <th>red</th>\n",
       "      <th>label</th>\n",
       "    </tr>\n",
       "  </thead>\n",
       "  <tbody>\n",
       "    <tr>\n",
       "      <th>count</th>\n",
       "      <td>653.000000</td>\n",
       "      <td>653.000000</td>\n",
       "      <td>653.000000</td>\n",
       "      <td>653.000000</td>\n",
       "    </tr>\n",
       "    <tr>\n",
       "      <th>mean</th>\n",
       "      <td>89.290965</td>\n",
       "      <td>130.094946</td>\n",
       "      <td>120.655436</td>\n",
       "      <td>7.055130</td>\n",
       "    </tr>\n",
       "    <tr>\n",
       "      <th>std</th>\n",
       "      <td>74.974850</td>\n",
       "      <td>72.487085</td>\n",
       "      <td>89.581264</td>\n",
       "      <td>4.287951</td>\n",
       "    </tr>\n",
       "    <tr>\n",
       "      <th>min</th>\n",
       "      <td>0.000000</td>\n",
       "      <td>0.000000</td>\n",
       "      <td>0.000000</td>\n",
       "      <td>0.000000</td>\n",
       "    </tr>\n",
       "    <tr>\n",
       "      <th>25%</th>\n",
       "      <td>22.000000</td>\n",
       "      <td>68.000000</td>\n",
       "      <td>52.000000</td>\n",
       "      <td>3.000000</td>\n",
       "    </tr>\n",
       "    <tr>\n",
       "      <th>50%</th>\n",
       "      <td>67.000000</td>\n",
       "      <td>146.000000</td>\n",
       "      <td>90.000000</td>\n",
       "      <td>7.000000</td>\n",
       "    </tr>\n",
       "    <tr>\n",
       "      <th>75%</th>\n",
       "      <td>162.000000</td>\n",
       "      <td>189.000000</td>\n",
       "      <td>224.000000</td>\n",
       "      <td>11.000000</td>\n",
       "    </tr>\n",
       "    <tr>\n",
       "      <th>max</th>\n",
       "      <td>255.000000</td>\n",
       "      <td>255.000000</td>\n",
       "      <td>255.000000</td>\n",
       "      <td>14.000000</td>\n",
       "    </tr>\n",
       "  </tbody>\n",
       "</table>\n",
       "</div>"
      ],
      "text/plain": [
       "             blue       green         red       label\n",
       "count  653.000000  653.000000  653.000000  653.000000\n",
       "mean    89.290965  130.094946  120.655436    7.055130\n",
       "std     74.974850   72.487085   89.581264    4.287951\n",
       "min      0.000000    0.000000    0.000000    0.000000\n",
       "25%     22.000000   68.000000   52.000000    3.000000\n",
       "50%     67.000000  146.000000   90.000000    7.000000\n",
       "75%    162.000000  189.000000  224.000000   11.000000\n",
       "max    255.000000  255.000000  255.000000   14.000000"
      ]
     },
     "execution_count": 14,
     "metadata": {},
     "output_type": "execute_result"
    }
   ],
   "source": [
    "# Viewing simple descriptive statistics from the data\n",
    "ph.describe()"
   ]
  },
  {
   "cell_type": "markdown",
   "metadata": {},
   "source": [
    "We'll try to take some insights from the given statistics.\n",
    "\n",
    "**Inference**\n",
    "- Blue, green, and red has a minimum value of 0 and maximum value of 255\n",
    "- Label has a minimum value of 0 and maximum value of 14\n",
    "- The value of blue, green, and red distributed in the data differs. From the quartile and mean section, it seems that green has a relatively higher value distributed in the data compared to red, while red has a relatively higher value distributed in the data compared to blue.\n",
    "- From the standard deviation, it can be known that green has the most spread out data compared to the other, but it's suspected that the three of them has outliers."
   ]
  },
  {
   "cell_type": "code",
   "execution_count": 15,
   "metadata": {},
   "outputs": [
    {
     "data": {
      "text/plain": [
       "0      81\n",
       "1      34\n",
       "73     16\n",
       "182    14\n",
       "36     13\n",
       "       ..\n",
       "106     1\n",
       "254     1\n",
       "109     1\n",
       "111     1\n",
       "255     1\n",
       "Name: blue, Length: 165, dtype: int64"
      ]
     },
     "execution_count": 15,
     "metadata": {},
     "output_type": "execute_result"
    }
   ],
   "source": [
    "ph['blue'].value_counts()"
   ]
  },
  {
   "cell_type": "code",
   "execution_count": 16,
   "metadata": {},
   "outputs": [
    {
     "data": {
      "text/plain": [
       "0      30\n",
       "170    19\n",
       "197    15\n",
       "184    15\n",
       "103    14\n",
       "       ..\n",
       "108     1\n",
       "110     1\n",
       "111     1\n",
       "116     1\n",
       "224     1\n",
       "Name: green, Length: 186, dtype: int64"
      ]
     },
     "execution_count": 16,
     "metadata": {},
     "output_type": "execute_result"
    }
   ],
   "source": [
    "ph['green'].value_counts()"
   ]
  },
  {
   "cell_type": "code",
   "execution_count": 17,
   "metadata": {},
   "outputs": [
    {
     "data": {
      "text/plain": [
       "0      53\n",
       "255    29\n",
       "70     21\n",
       "1      17\n",
       "90     16\n",
       "       ..\n",
       "80      1\n",
       "81      1\n",
       "83      1\n",
       "153     1\n",
       "119     1\n",
       "Name: red, Length: 172, dtype: int64"
      ]
     },
     "execution_count": 17,
     "metadata": {},
     "output_type": "execute_result"
    }
   ],
   "source": [
    "ph['red'].value_counts()"
   ]
  },
  {
   "cell_type": "code",
   "execution_count": 18,
   "metadata": {},
   "outputs": [
    {
     "data": {
      "text/plain": [
       "14    44\n",
       "12    44\n",
       "11    44\n",
       "10    44\n",
       "9     44\n",
       "8     44\n",
       "7     44\n",
       "6     44\n",
       "5     44\n",
       "4     44\n",
       "3     44\n",
       "2     44\n",
       "1     44\n",
       "13    43\n",
       "0     38\n",
       "Name: label, dtype: int64"
      ]
     },
     "execution_count": 18,
     "metadata": {},
     "output_type": "execute_result"
    }
   ],
   "source": [
    "ph['label'].value_counts()"
   ]
  },
  {
   "cell_type": "markdown",
   "metadata": {},
   "source": [
    "pH distribution seems to be fair, but the distribution of the other 3 categories (red, green, blue) seems to differ one another (but still, the three of 'em had 0 value as their modus)"
   ]
  },
  {
   "cell_type": "markdown",
   "metadata": {},
   "source": [
    "#### Data Visualization using Matplotlib"
   ]
  },
  {
   "cell_type": "markdown",
   "metadata": {},
   "source": [
    "Let's visualize using distplot to see how's the distribution for each variable."
   ]
  },
  {
   "cell_type": "code",
   "execution_count": 19,
   "metadata": {},
   "outputs": [
    {
     "name": "stderr",
     "output_type": "stream",
     "text": [
      "C:\\Users\\Shafa Salsabila K\\anaconda3\\lib\\site-packages\\seaborn\\distributions.py:2551: FutureWarning: `distplot` is a deprecated function and will be removed in a future version. Please adapt your code to use either `displot` (a figure-level function with similar flexibility) or `histplot` (an axes-level function for histograms).\n",
      "  warnings.warn(msg, FutureWarning)\n",
      "C:\\Users\\Shafa Salsabila K\\anaconda3\\lib\\site-packages\\seaborn\\distributions.py:2551: FutureWarning: `distplot` is a deprecated function and will be removed in a future version. Please adapt your code to use either `displot` (a figure-level function with similar flexibility) or `histplot` (an axes-level function for histograms).\n",
      "  warnings.warn(msg, FutureWarning)\n",
      "C:\\Users\\Shafa Salsabila K\\anaconda3\\lib\\site-packages\\seaborn\\distributions.py:2551: FutureWarning: `distplot` is a deprecated function and will be removed in a future version. Please adapt your code to use either `displot` (a figure-level function with similar flexibility) or `histplot` (an axes-level function for histograms).\n",
      "  warnings.warn(msg, FutureWarning)\n"
     ]
    },
    {
     "data": {
      "image/png": "[encoded data removed]",
      "text/plain": [
       "<Figure size 720x720 with 3 Axes>"
      ]
     },
     "metadata": {
      "needs_background": "light"
     },
     "output_type": "display_data"
    }
   ],
   "source": [
    "# Visualize using distplot to see the distribution of each variable\n",
    "plt.figure(figsize = (15, 7))\n",
    "plt.style.use('seaborn-white')\n",
    "plt.subplot(231)\n",
    "sns.distplot(ph['red'])\n",
    "fig = plt.gcf()\n",
    "fig.set_size_inches(10,10)\n",
    "\n",
    "plt.subplot(232)\n",
    "sns.distplot(ph['green'])\n",
    "fig = plt.gcf()\n",
    "fig.set_size_inches(10,10)\n",
    "\n",
    "plt.subplot(233)\n",
    "sns.distplot(ph['blue'])\n",
    "fig = plt.gcf()\n",
    "fig.set_size_inches(10,10)"
   ]
  },
  {
   "cell_type": "markdown",
   "metadata": {},
   "source": [
    "**Insights:**\n",
    "- The distribution of blue is densely populated between 0 and 100\n",
    "- The distribution of green is densely populated between 170 and 220\n",
    "- The distribution of red is densley populated between 0 and 100 (though the modus is above 200)\n",
    "\n",
    "Next, let's see how's the distribution of each variable in accordance to it pH level to see if there'c s correlation."
   ]
  },
  {
   "cell_type": "code",
   "execution_count": 21,
   "metadata": {},
   "outputs": [],
   "source": [
    "#Create the target variable and the features to train\n",
    "y = ph.label\n",
    "\n",
    "X = ph[['blue', 'green', 'red']]"
   ]
  },
  {
   "cell_type": "code",
   "execution_count": 22,
   "metadata": {},
   "outputs": [
    {
     "data": {
      "text/plain": [
       "Text(0, 0.5, 'ph value')"
      ]
     },
     "execution_count": 22,
     "metadata": {},
     "output_type": "execute_result"
    },
    {
     "data": {
      "image/png": "[encoded data removed]",
      "text/plain": [
       "<Figure size 1080x360 with 3 Axes>"
      ]
     },
     "metadata": {},
     "output_type": "display_data"
    }
   ],
   "source": [
    "# Visualisation of data with respect to pH values\n",
    "plt.figure(figsize=(15,5))\n",
    "\n",
    "# plotting blue spectrum with ph\n",
    "plt.subplot(1,3,1)\n",
    "plt.scatter(X.blue,y)\n",
    "plt.xlabel('Blue color')\n",
    "plt.ylabel('ph value')\n",
    "\n",
    "#plotting red spectrum with ph\n",
    "plt.subplot(1,3,2)\n",
    "plt.scatter(X.red,y)\n",
    "plt.xlabel('Red color')\n",
    "plt.ylabel('ph value')\n",
    "\n",
    "#plotting green spectrum with ph\n",
    "plt.subplot(1,3,3)\n",
    "plt.scatter(X.green,y)\n",
    "plt.xlabel('Green color')\n",
    "plt.ylabel('ph value')"
   ]
  },
  {
   "cell_type": "code",
   "execution_count": 23,
   "metadata": {},
   "outputs": [
    {
     "data": {
      "text/plain": [
       "Index(['blue', 'green', 'red', 'label'], dtype='object')"
      ]
     },
     "execution_count": 23,
     "metadata": {},
     "output_type": "execute_result"
    }
   ],
   "source": [
    "ph_index = ph.dtypes[ph.dtypes == 'int64'].index\n",
    "ph_index"
   ]
  },
  {
   "cell_type": "code",
   "execution_count": 24,
   "metadata": {},
   "outputs": [
    {
     "name": "stderr",
     "output_type": "stream",
     "text": [
      "C:\\Users\\Shafa Salsabila K\\anaconda3\\lib\\site-packages\\seaborn\\_decorators.py:36: FutureWarning: Pass the following variables as keyword args: x, y. From version 0.12, the only valid positional argument will be `data`, and passing other arguments without an explicit keyword will result in an error or misinterpretation.\n",
      "  warnings.warn(\n"
     ]
    },
    {
     "data": {
      "text/plain": [
       "<AxesSubplot:xlabel='label', ylabel='blue'>"
      ]
     },
     "execution_count": 24,
     "metadata": {},
     "output_type": "execute_result"
    },
    {
     "data": {
      "image/png": "[encoded data removed]",
      "text/plain": [
       "<Figure size 432x288 with 1 Axes>"
      ]
     },
     "metadata": {},
     "output_type": "display_data"
    }
   ],
   "source": [
    "# Box Plot of Blue\n",
    "sns.boxplot('label','blue',data=ph)"
   ]
  },
  {
   "cell_type": "code",
   "execution_count": 25,
   "metadata": {},
   "outputs": [
    {
     "name": "stderr",
     "output_type": "stream",
     "text": [
      "C:\\Users\\Shafa Salsabila K\\anaconda3\\lib\\site-packages\\seaborn\\_decorators.py:36: FutureWarning: Pass the following variables as keyword args: x, y. From version 0.12, the only valid positional argument will be `data`, and passing other arguments without an explicit keyword will result in an error or misinterpretation.\n",
      "  warnings.warn(\n"
     ]
    },
    {
     "data": {
      "text/plain": [
       "<AxesSubplot:xlabel='label', ylabel='green'>"
      ]
     },
     "execution_count": 25,
     "metadata": {},
     "output_type": "execute_result"
    },
    {
     "data": {
      "image/png": "[encoded data removed]",
      "text/plain": [
       "<Figure size 432x288 with 1 Axes>"
      ]
     },
     "metadata": {},
     "output_type": "display_data"
    }
   ],
   "source": [
    "# Box Plot Green\n",
    "sns.boxplot('label','green',data=ph)"
   ]
  },
  {
   "cell_type": "code",
   "execution_count": 26,
   "metadata": {},
   "outputs": [
    {
     "name": "stderr",
     "output_type": "stream",
     "text": [
      "C:\\Users\\Shafa Salsabila K\\anaconda3\\lib\\site-packages\\seaborn\\_decorators.py:36: FutureWarning: Pass the following variables as keyword args: x, y. From version 0.12, the only valid positional argument will be `data`, and passing other arguments without an explicit keyword will result in an error or misinterpretation.\n",
      "  warnings.warn(\n"
     ]
    },
    {
     "data": {
      "text/plain": [
       "<AxesSubplot:xlabel='label', ylabel='red'>"
      ]
     },
     "execution_count": 26,
     "metadata": {},
     "output_type": "execute_result"
    },
    {
     "data": {
      "image/png": "[encoded data removed]",
      "text/plain": [
       "<Figure size 432x288 with 1 Axes>"
      ]
     },
     "metadata": {},
     "output_type": "display_data"
    }
   ],
   "source": [
    "# Box Plot Red\n",
    "sns.boxplot('label','red',data=ph)"
   ]
  },
  {
   "cell_type": "markdown",
   "metadata": {},
   "source": [
    "**Insight**\n",
    "\n",
    "- The label value do depend on the composition of red, green, and blue\n",
    "- If the blue composition is relatively high, the label will stand around >8 (base)\n",
    "- If the green composition is relatively high, the label will stand around 3-8\n",
    "- If the red composition is relatively high, the label will stand most likely will stand below <6"
   ]
  },
  {
   "cell_type": "code",
   "execution_count": 27,
   "metadata": {},
   "outputs": [
    {
     "name": "stderr",
     "output_type": "stream",
     "text": [
      "C:\\Users\\Shafa Salsabila K\\anaconda3\\lib\\site-packages\\seaborn\\_decorators.py:36: FutureWarning: Pass the following variables as keyword args: x, y. From version 0.12, the only valid positional argument will be `data`, and passing other arguments without an explicit keyword will result in an error or misinterpretation.\n",
      "  warnings.warn(\n",
      "C:\\Users\\Shafa Salsabila K\\anaconda3\\lib\\site-packages\\seaborn\\_decorators.py:36: FutureWarning: Pass the following variables as keyword args: x, y. From version 0.12, the only valid positional argument will be `data`, and passing other arguments without an explicit keyword will result in an error or misinterpretation.\n",
      "  warnings.warn(\n",
      "C:\\Users\\Shafa Salsabila K\\anaconda3\\lib\\site-packages\\seaborn\\_decorators.py:36: FutureWarning: Pass the following variables as keyword args: x, y. From version 0.12, the only valid positional argument will be `data`, and passing other arguments without an explicit keyword will result in an error or misinterpretation.\n",
      "  warnings.warn(\n"
     ]
    },
    {
     "data": {
      "text/plain": [
       "<seaborn.axisgrid.FacetGrid at 0x26733bc37f0>"
      ]
     },
     "execution_count": 27,
     "metadata": {},
     "output_type": "execute_result"
    },
    {
     "data": {
      "image/png": "[encoded data removed]",
      "text/plain": [
       "<Figure size 360x360 with 1 Axes>"
      ]
     },
     "metadata": {},
     "output_type": "display_data"
    },
    {
     "data": {
      "image/png": "[encoded data removed]",
      "text/plain": [
       "<Figure size 360x360 with 1 Axes>"
      ]
     },
     "metadata": {},
     "output_type": "display_data"
    },
    {
     "data": {
      "image/png": "[encoded data removed]",
      "text/plain": [
       "<Figure size 360x360 with 1 Axes>"
      ]
     },
     "metadata": {},
     "output_type": "display_data"
    }
   ],
   "source": [
    "# Cat Plot\n",
    "sns.catplot('label','blue',data=ph)\n",
    "sns.catplot('label','green',data=ph)\n",
    "sns.catplot('label','red',data=ph)"
   ]
  },
  {
   "cell_type": "code",
   "execution_count": 28,
   "metadata": {},
   "outputs": [
    {
     "name": "stderr",
     "output_type": "stream",
     "text": [
      "C:\\Users\\Shafa Salsabila K\\anaconda3\\lib\\site-packages\\seaborn\\_decorators.py:36: FutureWarning: Pass the following variables as keyword args: x, y. From version 0.12, the only valid positional argument will be `data`, and passing other arguments without an explicit keyword will result in an error or misinterpretation.\n",
      "  warnings.warn(\n"
     ]
    },
    {
     "data": {
      "text/plain": [
       "<AxesSubplot:xlabel='label', ylabel='blue'>"
      ]
     },
     "execution_count": 28,
     "metadata": {},
     "output_type": "execute_result"
    },
    {
     "data": {
      "image/png": "[encoded data removed]",
      "text/plain": [
       "<Figure size 432x288 with 1 Axes>"
      ]
     },
     "metadata": {},
     "output_type": "display_data"
    }
   ],
   "source": [
    "# Bar Plot\n",
    "sns.barplot('label','blue',data=ph)"
   ]
  },
  {
   "cell_type": "code",
   "execution_count": 29,
   "metadata": {},
   "outputs": [
    {
     "name": "stderr",
     "output_type": "stream",
     "text": [
      "C:\\Users\\Shafa Salsabila K\\anaconda3\\lib\\site-packages\\seaborn\\_decorators.py:36: FutureWarning: Pass the following variables as keyword args: x, y. From version 0.12, the only valid positional argument will be `data`, and passing other arguments without an explicit keyword will result in an error or misinterpretation.\n",
      "  warnings.warn(\n"
     ]
    },
    {
     "data": {
      "text/plain": [
       "<AxesSubplot:xlabel='label', ylabel='green'>"
      ]
     },
     "execution_count": 29,
     "metadata": {},
     "output_type": "execute_result"
    },
    {
     "data": {
      "image/png": "[encoded data removed]",
      "text/plain": [
       "<Figure size 432x288 with 1 Axes>"
      ]
     },
     "metadata": {},
     "output_type": "display_data"
    }
   ],
   "source": [
    "sns.barplot('label','green',data=ph)"
   ]
  },
  {
   "cell_type": "code",
   "execution_count": 30,
   "metadata": {},
   "outputs": [
    {
     "name": "stderr",
     "output_type": "stream",
     "text": [
      "C:\\Users\\Shafa Salsabila K\\anaconda3\\lib\\site-packages\\seaborn\\_decorators.py:36: FutureWarning: Pass the following variables as keyword args: x, y. From version 0.12, the only valid positional argument will be `data`, and passing other arguments without an explicit keyword will result in an error or misinterpretation.\n",
      "  warnings.warn(\n"
     ]
    },
    {
     "data": {
      "text/plain": [
       "<AxesSubplot:xlabel='label', ylabel='red'>"
      ]
     },
     "execution_count": 30,
     "metadata": {},
     "output_type": "execute_result"
    },
    {
     "data": {
      "image/png": "[encoded data removed]",
      "text/plain": [
       "<Figure size 432x288 with 1 Axes>"
      ]
     },
     "metadata": {},
     "output_type": "display_data"
    }
   ],
   "source": [
    "sns.barplot('label','red',data=ph)"
   ]
  },
  {
   "cell_type": "markdown",
   "metadata": {},
   "source": [
    "Using bar plot, the distribution of the data can be seen clearly. It shows that the composition affects PH level"
   ]
  },
  {
   "cell_type": "markdown",
   "metadata": {},
   "source": [
    "## 4. Data Preprocessing"
   ]
  },
  {
   "cell_type": "markdown",
   "metadata": {},
   "source": [
    "Since the data is all numerical, no encoding is needed. Let's go on to scale the data."
   ]
  },
  {
   "cell_type": "code",
   "execution_count": 31,
   "metadata": {},
   "outputs": [
    {
     "data": {
      "text/html": [
       "<div>\n",
       "<style scoped>\n",
       "    .dataframe tbody tr th:only-of-type {\n",
       "        vertical-align: middle;\n",
       "    }\n",
       "\n",
       "    .dataframe tbody tr th {\n",
       "        vertical-align: top;\n",
       "    }\n",
       "\n",
       "    .dataframe thead th {\n",
       "        text-align: right;\n",
       "    }\n",
       "</style>\n",
       "<table border=\"1\" class=\"dataframe\">\n",
       "  <thead>\n",
       "    <tr style=\"text-align: right;\">\n",
       "      <th></th>\n",
       "      <th>0</th>\n",
       "      <th>1</th>\n",
       "      <th>2</th>\n",
       "    </tr>\n",
       "  </thead>\n",
       "  <tbody>\n",
       "    <tr>\n",
       "      <th>0</th>\n",
       "      <td>0.141176</td>\n",
       "      <td>0.105882</td>\n",
       "      <td>0.905882</td>\n",
       "    </tr>\n",
       "    <tr>\n",
       "      <th>1</th>\n",
       "      <td>0.141176</td>\n",
       "      <td>0.329412</td>\n",
       "      <td>0.980392</td>\n",
       "    </tr>\n",
       "    <tr>\n",
       "      <th>2</th>\n",
       "      <td>0.145098</td>\n",
       "      <td>0.643137</td>\n",
       "      <td>1.000000</td>\n",
       "    </tr>\n",
       "    <tr>\n",
       "      <th>3</th>\n",
       "      <td>0.086275</td>\n",
       "      <td>0.803922</td>\n",
       "      <td>1.000000</td>\n",
       "    </tr>\n",
       "    <tr>\n",
       "      <th>4</th>\n",
       "      <td>0.149020</td>\n",
       "      <td>0.874510</td>\n",
       "      <td>0.866667</td>\n",
       "    </tr>\n",
       "    <tr>\n",
       "      <th>...</th>\n",
       "      <td>...</td>\n",
       "      <td>...</td>\n",
       "      <td>...</td>\n",
       "    </tr>\n",
       "    <tr>\n",
       "      <th>648</th>\n",
       "      <td>0.788235</td>\n",
       "      <td>0.482353</td>\n",
       "      <td>0.000000</td>\n",
       "    </tr>\n",
       "    <tr>\n",
       "      <th>649</th>\n",
       "      <td>0.796078</td>\n",
       "      <td>0.200000</td>\n",
       "      <td>0.180392</td>\n",
       "    </tr>\n",
       "    <tr>\n",
       "      <th>650</th>\n",
       "      <td>0.662745</td>\n",
       "      <td>0.243137</td>\n",
       "      <td>0.188235</td>\n",
       "    </tr>\n",
       "    <tr>\n",
       "      <th>651</th>\n",
       "      <td>0.678431</td>\n",
       "      <td>0.145098</td>\n",
       "      <td>0.309804</td>\n",
       "    </tr>\n",
       "    <tr>\n",
       "      <th>652</th>\n",
       "      <td>0.513725</td>\n",
       "      <td>0.007843</td>\n",
       "      <td>0.301961</td>\n",
       "    </tr>\n",
       "  </tbody>\n",
       "</table>\n",
       "<p>653 rows × 3 columns</p>\n",
       "</div>"
      ],
      "text/plain": [
       "            0         1         2\n",
       "0    0.141176  0.105882  0.905882\n",
       "1    0.141176  0.329412  0.980392\n",
       "2    0.145098  0.643137  1.000000\n",
       "3    0.086275  0.803922  1.000000\n",
       "4    0.149020  0.874510  0.866667\n",
       "..        ...       ...       ...\n",
       "648  0.788235  0.482353  0.000000\n",
       "649  0.796078  0.200000  0.180392\n",
       "650  0.662745  0.243137  0.188235\n",
       "651  0.678431  0.145098  0.309804\n",
       "652  0.513725  0.007843  0.301961\n",
       "\n",
       "[653 rows x 3 columns]"
      ]
     },
     "execution_count": 31,
     "metadata": {},
     "output_type": "execute_result"
    }
   ],
   "source": [
    "# Importing libraries here\n",
    "from sklearn import preprocessing\n",
    "v = ph.values\n",
    "\n",
    "# Scaling\n",
    "min_max_scaler = preprocessing.MinMaxScaler()\n",
    "x_scaled = min_max_scaler.fit_transform(x)\n",
    "ph = pd.DataFrame(x_scaled)\n",
    "ph"
   ]
  },
  {
   "cell_type": "code",
   "execution_count": 32,
   "metadata": {},
   "outputs": [],
   "source": [
    "# Importing train_test_split to split the data into training & testing samples\n",
    "from sklearn.model_selection import train_test_split\n",
    "\n",
    "# Making the model\n",
    "from sklearn.model_selection import train_test_split\n",
    "x_train, x_test, y_train, y_test = train_test_split(x,\n",
    "                                                    y,\n",
    "                                                    test_size = 0.3)\n",
    "\n",
    "# Using sklearn library, the data has been splitted into train, test, and 70-30 ratio\n",
    "# 70% for training, 30% for testing"
   ]
  },
  {
   "cell_type": "code",
   "execution_count": 33,
   "metadata": {},
   "outputs": [
    {
     "name": "stdout",
     "output_type": "stream",
     "text": [
      "(457, 3)\n",
      "(196, 3)\n"
     ]
    }
   ],
   "source": [
    "# Let' check the dimension of the training data nad test data, just to ensure the data has been splitted\n",
    "print(x_train.shape)\n",
    "print(x_test.shape)"
   ]
  },
  {
   "cell_type": "markdown",
   "metadata": {},
   "source": [
    "## 5. Defining Model"
   ]
  },
  {
   "cell_type": "code",
   "execution_count": 34,
   "metadata": {},
   "outputs": [],
   "source": [
    "# Importing libraries here\n",
    "from sklearn.metrics import mean_squared_error\n",
    "from sklearn.metrics import accuracy_score\n",
    "from sklearn.metrics import accuracy_score\n",
    "from sklearn.metrics import confusion_matrix, classification_report\n",
    "import math"
   ]
  },
  {
   "cell_type": "markdown",
   "metadata": {},
   "source": [
    "### 5.1 Logistic Regression"
   ]
  },
  {
   "cell_type": "code",
   "execution_count": 36,
   "metadata": {},
   "outputs": [
    {
     "name": "stdout",
     "output_type": "stream",
     "text": [
      "Model's accuracy:  0.45918367346938777 \n",
      "\n",
      "Mean Squared Error:  1.8673469387755102 \n",
      "\n",
      "Root Mean Squared Error:  1.3665090335506422 \n",
      "\n",
      "Confusion Matrix: \n",
      " [[11  0  0  0  0  0  0  0  0  0  0  0  0  0  0]\n",
      " [ 2 10  0  0  0  0  0  0  0  0  0  0  0  0  0]\n",
      " [ 1  3  1  8  1  0  0  0  0  0  0  0  0  0  0]\n",
      " [ 1  0  1  7  3  0  0  0  0  0  0  0  0  0  0]\n",
      " [ 0  0  1  8  3  2  0  0  0  0  0  0  0  0  0]\n",
      " [ 0  0  0  1  0  7  4  0  0  0  0  0  0  0  0]\n",
      " [ 0  0  0  2  0  1  3  0  7  0  0  0  0  0  0]\n",
      " [ 0  0  0  1  0  1  1  5  5  0  0  0  0  0  0]\n",
      " [ 0  0  0  0  0  0  0  1  0 12  0  0  0  0  0]\n",
      " [ 0  0  0  0  0  0  0  0  0  5  2  0  0  0  1]\n",
      " [ 0  0  0  0  0  0  0  2  1  4  8  2  0  0  0]\n",
      " [ 1  0  0  0  0  0  0  0  1  0  0  9  0  1  0]\n",
      " [ 0  0  0  0  0  0  0  0  0  1  0  3  8  3  1]\n",
      " [ 0  0  0  0  0  0  0  0  0  0  0  0  5  7  1]\n",
      " [ 0  0  0  0  0  0  0  0  0  0  0  0  0 10  6]] \n",
      "\n",
      "Classification Report: \n",
      "               precision    recall  f1-score   support\n",
      "\n",
      "           0       0.69      1.00      0.81        11\n",
      "           1       0.77      0.83      0.80        12\n",
      "           2       0.33      0.07      0.12        14\n",
      "           3       0.26      0.58      0.36        12\n",
      "           4       0.43      0.21      0.29        14\n",
      "           5       0.64      0.58      0.61        12\n",
      "           6       0.38      0.23      0.29        13\n",
      "           7       0.62      0.38      0.48        13\n",
      "           8       0.00      0.00      0.00        13\n",
      "           9       0.23      0.62      0.33         8\n",
      "          10       0.80      0.47      0.59        17\n",
      "          11       0.64      0.75      0.69        12\n",
      "          12       0.62      0.50      0.55        16\n",
      "          13       0.33      0.54      0.41        13\n",
      "          14       0.67      0.38      0.48        16\n",
      "\n",
      "    accuracy                           0.46       196\n",
      "   macro avg       0.49      0.48      0.45       196\n",
      "weighted avg       0.51      0.46      0.45       196\n",
      "\n"
     ]
    }
   ],
   "source": [
    "# Import Logistic Regression module here\n",
    "from sklearn.linear_model import LogisticRegression\n",
    "\n",
    "# Create model using liblinear solver\n",
    "LR = LogisticRegression(solver='liblinear')\n",
    "\n",
    "# Set training data\n",
    "LR.fit(x_train, y_train)\n",
    "\n",
    "# Do a test to predict\n",
    "predict_LR = LR.predict(x_test)\n",
    "\n",
    "# Print the model's accuracy and confussion matrix\n",
    "accuracy_LR = accuracy_score(y_test, predict_LR)\n",
    "mse_LR = mean_squared_error(y_test, predict_LR)\n",
    "rmse_LR = math.sqrt(mse_LR)\n",
    "print(\"Model's accuracy: \", accuracy_LR, '\\n')\n",
    "print(\"Mean Squared Error: \", mse_LR, '\\n')\n",
    "print(\"Root Mean Squared Error: \", rmse_LR,\n",
    "     '\\n')\n",
    "print(\"Confusion Matrix:\", '\\n',\n",
    "      confusion_matrix(y_test, predict_LR),\n",
    "      '\\n')\n",
    "print(\"Classification Report:\", '\\n',\n",
    "      classification_report(y_test, predict_LR))"
   ]
  },
  {
   "cell_type": "markdown",
   "metadata": {},
   "source": [
    "**Inference:**\n",
    "- The accuracy score is 57,14%"
   ]
  },
  {
   "cell_type": "markdown",
   "metadata": {},
   "source": [
    "### 5.2 K-Nearest Neighbor"
   ]
  },
  {
   "cell_type": "code",
   "execution_count": 37,
   "metadata": {},
   "outputs": [
    {
     "name": "stdout",
     "output_type": "stream",
     "text": [
      "Model's accuracy:  0.6989795918367347 \n",
      "\n",
      "Mean Squared Error:  1.4591836734693877 \n",
      "\n",
      "Root Mean Squared Error:  1.2079667518062687 \n",
      "\n",
      "Confusion Matrix: \n",
      " [[ 9  2  0  0  0  0  0  0  0  0  0  0  0  0  0]\n",
      " [ 1 10  1  0  0  0  0  0  0  0  0  0  0  0  0]\n",
      " [ 0  3 10  1  0  0  0  0  0  0  0  0  0  0  0]\n",
      " [ 1  0  6  5  0  0  0  0  0  0  0  0  0  0  0]\n",
      " [ 0  1  1  3  9  0  0  0  0  0  0  0  0  0  0]\n",
      " [ 0  0  0  0  2 10  0  0  0  0  0  0  0  0  0]\n",
      " [ 0  0  2  0  0  2  9  0  0  0  0  0  0  0  0]\n",
      " [ 0  0  0  0  2  0  4  7  0  0  0  0  0  0  0]\n",
      " [ 0  0  0  0  0  0  1  0 10  2  0  0  0  0  0]\n",
      " [ 0  0  0  0  0  0  0  0  0  5  2  0  1  0  0]\n",
      " [ 0  0  0  0  0  0  0  1  2  1 11  2  0  0  0]\n",
      " [ 1  0  0  0  0  0  0  0  1  0  0  8  1  1  0]\n",
      " [ 0  0  0  0  0  0  0  0  0  0  1  0 10  5  0]\n",
      " [ 0  0  0  0  0  0  0  0  0  0  0  0  1 12  0]\n",
      " [ 0  0  0  0  0  0  0  0  0  0  0  0  1  3 12]] \n",
      "\n",
      "Classification Report: \n",
      "               precision    recall  f1-score   support\n",
      "\n",
      "           0       0.75      0.82      0.78        11\n",
      "           1       0.62      0.83      0.71        12\n",
      "           2       0.50      0.71      0.59        14\n",
      "           3       0.56      0.42      0.48        12\n",
      "           4       0.69      0.64      0.67        14\n",
      "           5       0.83      0.83      0.83        12\n",
      "           6       0.64      0.69      0.67        13\n",
      "           7       0.88      0.54      0.67        13\n",
      "           8       0.77      0.77      0.77        13\n",
      "           9       0.62      0.62      0.62         8\n",
      "          10       0.79      0.65      0.71        17\n",
      "          11       0.80      0.67      0.73        12\n",
      "          12       0.71      0.62      0.67        16\n",
      "          13       0.57      0.92      0.71        13\n",
      "          14       1.00      0.75      0.86        16\n",
      "\n",
      "    accuracy                           0.70       196\n",
      "   macro avg       0.72      0.70      0.70       196\n",
      "weighted avg       0.72      0.70      0.70       196\n",
      "\n"
     ]
    }
   ],
   "source": [
    "# Import K-Nearest Neighbors module here\n",
    "from sklearn.neighbors import KNeighborsClassifier\n",
    "\n",
    "# Create KNN model\n",
    "KNN = KNeighborsClassifier()\n",
    "\n",
    "# Set training data\n",
    "KNN.fit(x_train, y_train)\n",
    "\n",
    "# Do a test to predict\n",
    "predict_KNN = KNN.predict(x_test)\n",
    "\n",
    "# Print the model's accuracy and confussion matrix\n",
    "accuracy_KNN = accuracy_score(y_test, predict_KNN)\n",
    "mse_KNN = mean_squared_error(y_test, predict_KNN)\n",
    "rmse_KNN = math.sqrt(mse_KNN)\n",
    "print(\"Model's accuracy: \", accuracy_KNN, '\\n')\n",
    "print(\"Mean Squared Error: \", mse_KNN, '\\n')\n",
    "print(\"Root Mean Squared Error: \", rmse_KNN,\n",
    "     '\\n')\n",
    "print(\"Confusion Matrix:\", '\\n',\n",
    "      confusion_matrix(y_test, predict_KNN),\n",
    "      '\\n')\n",
    "print(\"Classification Report:\", '\\n',\n",
    "      classification_report(y_test, predict_KNN))"
   ]
  },
  {
   "cell_type": "markdown",
   "metadata": {},
   "source": [
    "**Inference:**\n",
    "- The accuracy score is 75,00%"
   ]
  },
  {
   "cell_type": "markdown",
   "metadata": {},
   "source": [
    "### 5.3 Support Vector Machine"
   ]
  },
  {
   "cell_type": "code",
   "execution_count": 38,
   "metadata": {},
   "outputs": [
    {
     "name": "stdout",
     "output_type": "stream",
     "text": [
      "Model's accuracy:  0.6887755102040817 \n",
      "\n",
      "Mean Squared Error:  1.5357142857142858 \n",
      "\n",
      "Root Mean Squared Error:  1.2392393980641052 \n",
      "\n",
      "Confusion Matrix: \n",
      " [[11  0  0  0  0  0  0  0  0  0  0  0  0  0  0]\n",
      " [ 2 10  0  0  0  0  0  0  0  0  0  0  0  0  0]\n",
      " [ 1  3 10  0  0  0  0  0  0  0  0  0  0  0  0]\n",
      " [ 1  0  5  6  0  0  0  0  0  0  0  0  0  0  0]\n",
      " [ 0  1  1  5  7  0  0  0  0  0  0  0  0  0  0]\n",
      " [ 0  0  0  1  1 10  0  0  0  0  0  0  0  0  0]\n",
      " [ 0  0  1  1  0  2  9  0  0  0  0  0  0  0  0]\n",
      " [ 0  0  0  1  1  0  3  8  0  0  0  0  0  0  0]\n",
      " [ 0  0  0  0  0  0  0  1 10  2  0  0  0  0  0]\n",
      " [ 0  0  0  0  0  0  0  0  0  5  2  0  0  1  0]\n",
      " [ 0  0  0  0  0  0  0  1  2  0 12  2  0  0  0]\n",
      " [ 1  0  0  0  0  0  0  0  1  0  0  9  0  1  0]\n",
      " [ 0  0  0  0  0  0  0  0  0  0  1  2  9  2  2]\n",
      " [ 0  0  0  0  0  0  0  0  0  0  0  0  5  5  3]\n",
      " [ 0  0  0  0  0  0  0  0  0  0  0  0  0  2 14]] \n",
      "\n",
      "Classification Report: \n",
      "               precision    recall  f1-score   support\n",
      "\n",
      "           0       0.69      1.00      0.81        11\n",
      "           1       0.71      0.83      0.77        12\n",
      "           2       0.59      0.71      0.65        14\n",
      "           3       0.43      0.50      0.46        12\n",
      "           4       0.78      0.50      0.61        14\n",
      "           5       0.83      0.83      0.83        12\n",
      "           6       0.75      0.69      0.72        13\n",
      "           7       0.80      0.62      0.70        13\n",
      "           8       0.77      0.77      0.77        13\n",
      "           9       0.71      0.62      0.67         8\n",
      "          10       0.80      0.71      0.75        17\n",
      "          11       0.69      0.75      0.72        12\n",
      "          12       0.64      0.56      0.60        16\n",
      "          13       0.45      0.38      0.42        13\n",
      "          14       0.74      0.88      0.80        16\n",
      "\n",
      "    accuracy                           0.69       196\n",
      "   macro avg       0.69      0.69      0.68       196\n",
      "weighted avg       0.69      0.69      0.68       196\n",
      "\n"
     ]
    }
   ],
   "source": [
    "# Import Support Vector Machine module here\n",
    "from sklearn import svm\n",
    "\n",
    "# Create model\n",
    "model_SVM = svm.SVC()\n",
    "\n",
    "# Set training data\n",
    "model_SVM.fit(x_train, y_train)\n",
    "\n",
    "# Do a test to predict\n",
    "predict_SVM = model_SVM.predict(x_test)\n",
    "\n",
    "# Print the model's accuracy and confussion matrix\n",
    "accuracy_SVM = accuracy_score(y_test, predict_SVM)\n",
    "mse_SVM = mean_squared_error(y_test, predict_SVM)\n",
    "rmse_SVM = math.sqrt(mse_SVM)\n",
    "print(\"Model's accuracy: \", accuracy_SVM, '\\n')\n",
    "print(\"Mean Squared Error: \", mse_SVM, '\\n')\n",
    "print(\"Root Mean Squared Error: \", rmse_SVM,\n",
    "     '\\n')\n",
    "print(\"Confusion Matrix:\", '\\n',\n",
    "      confusion_matrix(y_test, predict_SVM),\n",
    "      '\\n')\n",
    "print(\"Classification Report:\", '\\n',\n",
    "      classification_report(y_test, predict_SVM))"
   ]
  },
  {
   "cell_type": "markdown",
   "metadata": {},
   "source": [
    "**Inference:**\n",
    "- The accuracy score is 67,85%"
   ]
  },
  {
   "cell_type": "markdown",
   "metadata": {},
   "source": [
    "### 5.4 Decision Tree Classifier (CART)"
   ]
  },
  {
   "cell_type": "code",
   "execution_count": 39,
   "metadata": {},
   "outputs": [
    {
     "name": "stdout",
     "output_type": "stream",
     "text": [
      "Model's accuracy:  0.6938775510204082 \n",
      "\n",
      "Mean Squared Error:  1.0204081632653061 \n",
      "\n",
      "Root Mean Squared Error:  1.0101525445522108 \n",
      "\n",
      "Confusion Matrix: \n",
      " [[ 5  2  2  2  0  0  0  0  0  0  0  0  0  0  0]\n",
      " [ 1  9  2  0  0  0  0  0  0  0  0  0  0  0  0]\n",
      " [ 0  1 12  0  0  1  0  0  0  0  0  0  0  0  0]\n",
      " [ 0  1  2  7  2  0  0  0  0  0  0  0  0  0  0]\n",
      " [ 0  0  0  2 10  2  0  0  0  0  0  0  0  0  0]\n",
      " [ 0  0  0  0  0  6  3  1  0  2  0  0  0  0  0]\n",
      " [ 0  0  0  2  0  2  9  0  0  0  0  0  0  0  0]\n",
      " [ 0  0  0  0  1  2  0  8  0  2  0  0  0  0  0]\n",
      " [ 0  0  0  0  0  0  1  0 10  2  0  0  0  0  0]\n",
      " [ 0  0  0  0  0  0  0  0  0  5  1  1  1  0  0]\n",
      " [ 0  0  0  0  0  0  0  0  2  1 11  2  1  0  0]\n",
      " [ 0  0  0  0  0  0  0  0  0  0  1  8  1  2  0]\n",
      " [ 0  0  0  0  0  0  0  0  0  0  1  0 12  2  1]\n",
      " [ 0  0  0  0  0  0  0  0  0  0  0  0  2 11  0]\n",
      " [ 0  0  0  0  0  0  0  0  0  0  0  0  1  2 13]] \n",
      "\n",
      "Classification Report: \n",
      "               precision    recall  f1-score   support\n",
      "\n",
      "           0       0.83      0.45      0.59        11\n",
      "           1       0.69      0.75      0.72        12\n",
      "           2       0.67      0.86      0.75        14\n",
      "           3       0.54      0.58      0.56        12\n",
      "           4       0.77      0.71      0.74        14\n",
      "           5       0.46      0.50      0.48        12\n",
      "           6       0.69      0.69      0.69        13\n",
      "           7       0.89      0.62      0.73        13\n",
      "           8       0.83      0.77      0.80        13\n",
      "           9       0.42      0.62      0.50         8\n",
      "          10       0.79      0.65      0.71        17\n",
      "          11       0.73      0.67      0.70        12\n",
      "          12       0.67      0.75      0.71        16\n",
      "          13       0.65      0.85      0.73        13\n",
      "          14       0.93      0.81      0.87        16\n",
      "\n",
      "    accuracy                           0.69       196\n",
      "   macro avg       0.70      0.69      0.68       196\n",
      "weighted avg       0.72      0.69      0.70       196\n",
      "\n"
     ]
    }
   ],
   "source": [
    "# Import Decision Tree module here\n",
    "from sklearn.tree import DecisionTreeClassifier\n",
    "\n",
    "# Create model\n",
    "DT = DecisionTreeClassifier()\n",
    "\n",
    "# Set training data\n",
    "DT.fit(x_train, y_train)\n",
    "\n",
    "# Do a test to predict\n",
    "predict_DT = DT.predict(x_test)\n",
    "\n",
    "# Print the model's accuracy and confussion matrix\n",
    "accuracy_DT = accuracy_score(y_test, predict_DT)\n",
    "mse_DT = mean_squared_error(y_test, predict_DT)\n",
    "rmse_DT = math.sqrt(mse_DT)\n",
    "print(\"Model's accuracy: \", accuracy_DT, '\\n')\n",
    "print(\"Mean Squared Error: \", mse_DT, '\\n')\n",
    "print(\"Root Mean Squared Error: \", rmse_DT,\n",
    "     '\\n')\n",
    "print(\"Confusion Matrix:\", '\\n',\n",
    "      confusion_matrix(y_test, predict_DT),\n",
    "      '\\n')\n",
    "print(\"Classification Report:\", '\\n',\n",
    "      classification_report(y_test, predict_DT))"
   ]
  },
  {
   "cell_type": "markdown",
   "metadata": {},
   "source": [
    "**Inference:**\n",
    "- The accuracy score is 71,42%"
   ]
  },
  {
   "cell_type": "markdown",
   "metadata": {},
   "source": [
    "### 5.5 Random Forest"
   ]
  },
  {
   "cell_type": "code",
   "execution_count": 40,
   "metadata": {},
   "outputs": [
    {
     "name": "stdout",
     "output_type": "stream",
     "text": [
      "Model's accuracy:  0.7602040816326531 \n",
      "\n",
      "Mean Squared Error:  1.4744897959183674 \n",
      "\n",
      "Root Mean Squared Error:  1.2142857142857142 \n",
      "\n",
      "Confusion Matrix: \n",
      " [[ 8  2  1  0  0  0  0  0  0  0  0  0  0  0  0]\n",
      " [ 1 10  1  0  0  0  0  0  0  0  0  0  0  0  0]\n",
      " [ 0  1 12  0  0  1  0  0  0  0  0  0  0  0  0]\n",
      " [ 0  1  2  8  1  0  0  0  0  0  0  0  0  0  0]\n",
      " [ 0  0  0  3 10  1  0  0  0  0  0  0  0  0  0]\n",
      " [ 0  0  0  0  0 10  0  1  0  1  0  0  0  0  0]\n",
      " [ 0  0  0  2  0  2  9  0  0  0  0  0  0  0  0]\n",
      " [ 0  0  0  0  1  1  1  9  0  1  0  0  0  0  0]\n",
      " [ 0  0  0  0  0  0  1  0 10  2  0  0  0  0  0]\n",
      " [ 0  0  0  0  0  0  0  0  0  6  1  0  0  1  0]\n",
      " [ 0  0  0  0  0  0  0  2  1  1 11  1  1  0  0]\n",
      " [ 1  0  0  0  0  0  0  0  1  0  0  9  0  1  0]\n",
      " [ 0  0  0  0  0  0  0  0  0  0  1  0 11  3  1]\n",
      " [ 0  0  0  0  0  0  0  0  0  0  0  0  0 12  1]\n",
      " [ 0  0  0  0  0  0  0  0  0  0  0  0  1  1 14]] \n",
      "\n",
      "Classification Report: \n",
      "               precision    recall  f1-score   support\n",
      "\n",
      "           0       0.80      0.73      0.76        11\n",
      "           1       0.71      0.83      0.77        12\n",
      "           2       0.75      0.86      0.80        14\n",
      "           3       0.62      0.67      0.64        12\n",
      "           4       0.83      0.71      0.77        14\n",
      "           5       0.67      0.83      0.74        12\n",
      "           6       0.82      0.69      0.75        13\n",
      "           7       0.75      0.69      0.72        13\n",
      "           8       0.83      0.77      0.80        13\n",
      "           9       0.55      0.75      0.63         8\n",
      "          10       0.85      0.65      0.73        17\n",
      "          11       0.90      0.75      0.82        12\n",
      "          12       0.85      0.69      0.76        16\n",
      "          13       0.67      0.92      0.77        13\n",
      "          14       0.88      0.88      0.88        16\n",
      "\n",
      "    accuracy                           0.76       196\n",
      "   macro avg       0.76      0.76      0.76       196\n",
      "weighted avg       0.77      0.76      0.76       196\n",
      "\n"
     ]
    }
   ],
   "source": [
    "# Import Random Forest module here\n",
    "from sklearn.ensemble import RandomForestClassifier\n",
    "\n",
    "# Create model\n",
    "RF = RandomForestClassifier()\n",
    "\n",
    "# Set training data\n",
    "RF.fit(x_train, y_train)\n",
    "\n",
    "# Do a test to predict\n",
    "predict_RF = RF.predict(x_test)\n",
    "\n",
    "# Print the model's accuracy and confussion matrix\n",
    "accuracy_RF = accuracy_score(y_test, predict_RF)\n",
    "mse_RF = mean_squared_error(y_test, predict_RF)\n",
    "rmse_RF = math.sqrt(mse_RF)\n",
    "print(\"Model's accuracy: \", accuracy_RF, '\\n')\n",
    "print(\"Mean Squared Error: \", mse_RF, '\\n')\n",
    "print(\"Root Mean Squared Error: \", rmse_RF,\n",
    "     '\\n')\n",
    "print(\"Confusion Matrix:\", '\\n',\n",
    "      confusion_matrix(y_test, predict_RF),\n",
    "      '\\n')\n",
    "print(\"Classification Report:\", '\\n',\n",
    "      classification_report(y_test, predict_RF))"
   ]
  },
  {
   "cell_type": "markdown",
   "metadata": {},
   "source": [
    "**Inference:**\n",
    "- The accuracy score is 78,06%"
   ]
  },
  {
   "cell_type": "markdown",
   "metadata": {},
   "source": [
    "### 5.6 Naive Bayes"
   ]
  },
  {
   "cell_type": "code",
   "execution_count": 41,
   "metadata": {},
   "outputs": [
    {
     "name": "stdout",
     "output_type": "stream",
     "text": [
      "Model's accuracy:  0.5816326530612245 \n",
      "\n",
      "Mean Squared Error:  0.9540816326530612 \n",
      "\n",
      "Root Mean Squared Error:  0.9767710236555245 \n",
      "\n",
      "Confusion Matrix: \n",
      " [[11  0  0  0  0  0  0  0  0  0  0  0  0  0  0]\n",
      " [ 2  7  0  3  0  0  0  0  0  0  0  0  0  0  0]\n",
      " [ 0  3  2  9  0  0  0  0  0  0  0  0  0  0  0]\n",
      " [ 1  0  0 11  0  0  0  0  0  0  0  0  0  0  0]\n",
      " [ 0  0  0  4  9  1  0  0  0  0  0  0  0  0  0]\n",
      " [ 0  0  0  1  0  8  3  0  0  0  0  0  0  0  0]\n",
      " [ 0  0  0  2  0  1 10  0  0  0  0  0  0  0  0]\n",
      " [ 0  0  0  1  0  1  2  9  0  0  0  0  0  0  0]\n",
      " [ 0  0  0  0  0  0  0  1  0 12  0  0  0  0  0]\n",
      " [ 0  0  0  0  0  0  0  0  0  5  2  1  0  0  0]\n",
      " [ 0  0  0  0  0  0  0  2  1  1 11  1  1  0  0]\n",
      " [ 0  0  0  0  0  0  0  0  0  0  0  6  3  3  0]\n",
      " [ 0  0  0  0  0  0  0  0  0  0  1  3  7  3  2]\n",
      " [ 0  0  0  0  0  0  0  0  0  0  1  0  6  4  2]\n",
      " [ 0  0  0  0  0  0  0  0  0  0  0  0  0  2 14]] \n",
      "\n",
      "Classification Report: \n",
      "               precision    recall  f1-score   support\n",
      "\n",
      "           0       0.79      1.00      0.88        11\n",
      "           1       0.70      0.58      0.64        12\n",
      "           2       1.00      0.14      0.25        14\n",
      "           3       0.35      0.92      0.51        12\n",
      "           4       1.00      0.64      0.78        14\n",
      "           5       0.73      0.67      0.70        12\n",
      "           6       0.67      0.77      0.71        13\n",
      "           7       0.75      0.69      0.72        13\n",
      "           8       0.00      0.00      0.00        13\n",
      "           9       0.28      0.62      0.38         8\n",
      "          10       0.73      0.65      0.69        17\n",
      "          11       0.55      0.50      0.52        12\n",
      "          12       0.41      0.44      0.42        16\n",
      "          13       0.33      0.31      0.32        13\n",
      "          14       0.78      0.88      0.82        16\n",
      "\n",
      "    accuracy                           0.58       196\n",
      "   macro avg       0.60      0.59      0.56       196\n",
      "weighted avg       0.62      0.58      0.56       196\n",
      "\n"
     ]
    }
   ],
   "source": [
    "# Import Naive Bayes module here\n",
    "from sklearn.naive_bayes import GaussianNB\n",
    "\n",
    "# Create model\n",
    "NB = GaussianNB()\n",
    "\n",
    "# Set training data\n",
    "NB.fit(x_train, y_train)\n",
    "\n",
    "# Do a test to predict\n",
    "predict_NB = NB.predict(x_test)\n",
    "\n",
    "# Print the model's accuracy and confussion matrix\n",
    "accuracy_NB = accuracy_score(y_test, predict_NB)\n",
    "mse_NB = mean_squared_error(y_test, predict_NB)\n",
    "rmse_NB = math.sqrt(mse_NB)\n",
    "print(\"Model's accuracy: \", accuracy_NB, '\\n')\n",
    "print(\"Mean Squared Error: \", mse_NB, '\\n')\n",
    "print(\"Root Mean Squared Error: \", rmse_NB,\n",
    "     '\\n')\n",
    "print(\"Confusion Matrix:\", '\\n',\n",
    "      confusion_matrix(y_test, predict_NB),\n",
    "      '\\n')\n",
    "print(\"Classification Report:\", '\\n',\n",
    "      classification_report(y_test, predict_NB))"
   ]
  },
  {
   "cell_type": "markdown",
   "metadata": {},
   "source": [
    "**Inference:**\n",
    "- The accuracy score is 63,77%"
   ]
  },
  {
   "cell_type": "markdown",
   "metadata": {},
   "source": [
    "## Summary"
   ]
  },
  {
   "cell_type": "code",
   "execution_count": 42,
   "metadata": {},
   "outputs": [
    {
     "name": "stdout",
     "output_type": "stream",
     "text": [
      "Accuracy of Logistic Regression:  0.45918367346938777\n",
      "Accuracy of K-Nearest Neighbors:  0.6989795918367347\n",
      "Accuracy of Support Vector Machine:  0.6887755102040817\n",
      "Accuracy of Decision Tree:  0.6938775510204082\n",
      "Accuracy of Random Forest:  0.7602040816326531\n",
      "Accuracy of Naive Bayes:  0.5816326530612245\n"
     ]
    }
   ],
   "source": [
    "print('Accuracy of Logistic Regression: ', accuracy_LR)\n",
    "print('Accuracy of K-Nearest Neighbors: ', accuracy_KNN)\n",
    "print('Accuracy of Support Vector Machine: ', accuracy_SVM)\n",
    "print('Accuracy of Decision Tree: ', accuracy_DT)\n",
    "print('Accuracy of Random Forest: ', accuracy_RF)\n",
    "print('Accuracy of Naive Bayes: ', accuracy_NB)"
   ]
  },
  {
   "cell_type": "markdown",
   "metadata": {},
   "source": [
    "## 6. Evaluating Model"
   ]
  },
  {
   "cell_type": "markdown",
   "metadata": {},
   "source": [
    "After trying various classification methods, my final decision (to predict the pH level from the given RGB color) would go to `Random Forest` since it has the highest accuracy of all."
   ]
  }
 ],
 "metadata": {
  "kernelspec": {
   "display_name": "Python 3",
   "language": "python",
   "name": "python3"
  },
  "language_info": {
   "codemirror_mode": {
    "name": "ipython",
    "version": 3
   },
   "file_extension": ".py",
   "mimetype": "text/x-python",
   "name": "python",
   "nbconvert_exporter": "python",
   "pygments_lexer": "ipython3",
   "version": "3.8.5"
  }
 },
 "nbformat": 4,
 "nbformat_minor": 4
}
